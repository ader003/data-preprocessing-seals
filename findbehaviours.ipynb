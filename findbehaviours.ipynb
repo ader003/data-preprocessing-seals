{
 "cells": [
  {
   "cell_type": "code",
   "execution_count": 12,
   "metadata": {
    "scrolled": true
   },
   "outputs": [],
   "source": [
    "from pyspark.sql import SparkSession\n",
    "import pandas as pd\n",
    "import numpy as np\n",
    "import os # getting filepath\n",
    "import copy\n",
    "import matplotlib.pyplot as plt\n",
    "import math\n",
    "\n",
    "import more_itertools as mit\n",
    "import sqlite3"
   ]
  },
  {
   "cell_type": "code",
   "execution_count": 13,
   "metadata": {},
   "outputs": [],
   "source": [
    "def find_ranges(iterable):\n",
    "    \"\"\"Yield range of consecutive numbers.\"\"\"\n",
    "    for group in mit.consecutive_groups(iterable):\n",
    "        group = list(group)\n",
    "        if len(group) == 1:\n",
    "            yield group[0]\n",
    "        else:\n",
    "            yield group[0], group[-1]"
   ]
  },
  {
   "cell_type": "code",
   "execution_count": 14,
   "metadata": {},
   "outputs": [
    {
     "name": "stdout",
     "output_type": "stream",
     "text": [
      "Directory name: csv\n"
     ]
    }
   ],
   "source": [
    "conn = sqlite3.connect('fursealdata.db')\n",
    "c = conn.cursor()\n",
    "\n",
    "# COMMENT IF YOU DON'T WANT THE TABLE DROPPED EACH TIME\n",
    "# (The .db needs to be created anew anytime you give it a different directory of files)\n",
    "# Otherwise, change the line containing \"CREATE TABLE fursealdata\" to \"CREATE TABLE <table name>\"\n",
    "c.execute('''DROP TABLE fursealdata''') \n",
    "c.execute('''CREATE TABLE fursealdata\n",
    "             (behaviour integer, filename text, range text, depth blob, x blob, \n",
    "             y blob, z blob, type blob, place blob)''')\n",
    "conn.commit()\n",
    "\n",
    "# iterate through files and insert information into the db file\n",
    "dir_name = input(\"Directory name: \")\n",
    "contents = os.listdir(dir_name) # the filenames\n",
    "\n",
    "for i in contents:\n",
    "    i = os.path.join(os.path.relpath(dir_name), i)\n",
    "    if i.lower().endswith(('.csv')) == False: # nothing but CSVs should be getting by\n",
    "        print('Non .csv found')\n",
    "        continue\n",
    "    \n",
    "    data = pd.read_csv(i, sep=\",\", header=0, names=['depth', 'x', 'y', 'z', 'behaviour', 'type', 'place'], low_memory=False)\n",
    "    # print(data)\n",
    "    for behaviour in range(0, 27):\n",
    "        temp = data.loc[data['behaviour'] == behaviour]\n",
    "#         print(b, '=' * 20)\n",
    "        if len(temp) > 0:\n",
    "#             print(i)\n",
    "            indexes = temp.index.tolist()\n",
    "            groups = list(find_ranges(indexes))\n",
    "            for r in groups:\n",
    "#                 print(r) # prints ranges\n",
    "                if type(r) is not type(groups[0]):\n",
    "                    continue # protects against \"ranges\" that are not truly ranges\n",
    "                x = data.iloc[r[0]:r[1]]['x']\n",
    "                y = data.iloc[r[0]:r[1]]['y']\n",
    "                z = data.iloc[r[0]:r[1]]['z']\n",
    "                depth = data.iloc[r[0]:r[1]]['depth']\n",
    "                t = data.iloc[r[0]:r[1]]['type']\n",
    "                place = data.iloc[r[0]:r[1]]['place']\n",
    "                c.execute(\"INSERT INTO fursealdata VALUES (?, ?, ?, ?, ?, ?, ?, ?, ?)\", \n",
    "                          (behaviour, i, str(r), str(list(depth)), str(list(x)), \n",
    "                           str(list(y)), str(list(z)), str(list(t)), str(list(place))))\n",
    "            conn.commit()\n",
    "conn.close()"
   ]
  },
  {
   "cell_type": "code",
   "execution_count": 15,
   "metadata": {},
   "outputs": [],
   "source": [
    "# CHANGE THE FOLLOWING LINE TO preferredDatabase.db\n",
    "conn = sqlite3.connect('fursealdata.db') \n",
    "c = conn.cursor()\n",
    "\n",
    "files_and_ranges = []\n",
    "\n",
    "\n",
    "# CHANGE BEHAVIOR HERE (refer to dictionary in README)\n",
    "for row in c.execute(\"SELECT * FROM fursealdata WHERE behaviour = 22\"): \n",
    "    files_and_ranges.append(row)\n",
    "    \n",
    "    \n",
    "conn.close()"
   ]
  },
  {
   "cell_type": "code",
   "execution_count": 16,
   "metadata": {},
   "outputs": [],
   "source": [
    "# CHANGE THE FOLLOWING LINE TO preferredDatabase.db\n",
    "conn = sqlite3.connect('fursealdata.db')\n",
    "c = conn.cursor()\n",
    "\n",
    "num_ranges = len(files_and_ranges) # number of ranges in the specified directory\n",
    "temp = math.ceil(math.sqrt(num_ranges))\n",
    "k = 0\n",
    "for file in files_and_ranges: # 'file' is a misnomer; it's a single range out of all of them\n",
    "    filename = file[1] # one filename per index (can be repeated amongst files_and_ranges)\n",
    "    filename_for_fig = filename.replace(\".csv\", \"\")\n",
    "    \n",
    "    \n",
    "    # CHANGE DIRECTORY TO PREVIOUSLY SPECIFIED DIRECTORY\n",
    "    filename_for_fig = filename_for_fig.replace(\"csv/\", \"\")\n",
    "    \n",
    "    b = file[0] # one behavior per index (will be repeated amongst files_and_ranges)\n",
    "    range_for_axis = file[2] # \n",
    "\n",
    "    # COMMENT AND UNCOMMENT AS DESIRED\n",
    "    depth_range = file[3]\n",
    "    x_range = file[4]\n",
    "    y_range = file[5]\n",
    "    z_range = file[6]\n",
    "#         t_range = file[7] # UNCOMMENT FOR TYPE TO BE GRAPHED; uncomment line 35 as well\n",
    "#         place_range = file[8] # UNCOMMENT FOR PLACE TO BE GRAPHED; uncomment line 36 as well\n",
    "\n",
    "\n",
    "    # grab data from database\n",
    "    for char in '[,]()':\n",
    "        range_for_axis = range_for_axis.replace(char,\"\")\n",
    "        x_range = x_range.replace(char,\"\")\n",
    "        y_range = y_range.replace(char, \"\")\n",
    "        z_range = z_range.replace(char, \"\")\n",
    "        depth_range = depth_range.replace(char, \"\")\n",
    "#         t_range = t_range.replace(char, \"\")\n",
    "#         place_range = place_range.replace(char, \"\")\n",
    "        \n",
    "        \n",
    "    range_for_axis = list(map(int, range_for_axis.split()))\n",
    "    x_range = list(map(float, x_range.split()))\n",
    "    y_range = list(map(float, y_range.split()))\n",
    "    z_range = list(map(float, z_range.split()))\n",
    "    depth_range = list(map(float, depth_range.split()))\n",
    "    \n",
    "    # NOTE: png ratio can be changed (width, height) in inches\n",
    "    plt.figure(dpi=300, figsize=[8, 5])\n",
    "    fig_name = str(b) + \" \" + filename_for_fig + str(range_for_axis)\n",
    "    \n",
    "    plt.plot(range(range_for_axis[0], range_for_axis[1]), x_range, label='x', color='red')\n",
    "    plt.plot(range(range_for_axis[0], range_for_axis[1]), y_range, label='y', color='blue')\n",
    "    plt.plot(range(range_for_axis[0], range_for_axis[1]), z_range, label='z', color='green')\n",
    "    plt.plot(range(range_for_axis[0], range_for_axis[1]), depth_range, label='depth', color='magenta')\n",
    "    plt.title(fig_name)\n",
    "    plt.legend(bbox_to_anchor=(1.05, 1), loc=2, borderaxespad=0.)\n",
    "    fig_name += '.png'\n",
    "    \n",
    "    # CHANGE TRANSPARENCY\n",
    "    plt.savefig(fname=fig_name, transparent=True, format='png')\n",
    "    \n",
    "    plt.close()\n",
    "            \n",
    "        \n",
    "conn.close()"
   ]
  },
  {
   "cell_type": "code",
   "execution_count": null,
   "metadata": {},
   "outputs": [],
   "source": []
  },
  {
   "cell_type": "code",
   "execution_count": null,
   "metadata": {},
   "outputs": [],
   "source": []
  }
 ],
 "metadata": {
  "kernelspec": {
   "display_name": "Python 3",
   "language": "python",
   "name": "python3"
  },
  "language_info": {
   "codemirror_mode": {
    "name": "ipython",
    "version": 3
   },
   "file_extension": ".py",
   "mimetype": "text/x-python",
   "name": "python",
   "nbconvert_exporter": "python",
   "pygments_lexer": "ipython3",
   "version": "3.6.5"
  }
 },
 "nbformat": 4,
 "nbformat_minor": 2
}
