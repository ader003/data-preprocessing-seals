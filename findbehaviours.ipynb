{
 "cells": [
  {
   "cell_type": "code",
   "execution_count": 52,
   "metadata": {
    "scrolled": true
   },
   "outputs": [
    {
     "name": "stdout",
     "output_type": "stream",
     "text": [
      "Are you loading a behaviour csv? (y/n): n\n",
      "Directory name: cleandata_copy\n"
     ]
    },
    {
     "ename": "TypeError",
     "evalue": "list indices must be integers or slices, not str",
     "output_type": "error",
     "traceback": [
      "\u001b[0;31m---------------------------------------------------------------------------\u001b[0m",
      "\u001b[0;31mTypeError\u001b[0m                                 Traceback (most recent call last)",
      "\u001b[0;32m<ipython-input-52-863b5d6b5227>\u001b[0m in \u001b[0;36m<module>\u001b[0;34m()\u001b[0m\n\u001b[1;32m     74\u001b[0m \u001b[0;34m\u001b[0m\u001b[0m\n\u001b[1;32m     75\u001b[0m \u001b[0;32mif\u001b[0m \u001b[0m__name__\u001b[0m \u001b[0;34m==\u001b[0m \u001b[0;34m\"__main__\"\u001b[0m\u001b[0;34m:\u001b[0m\u001b[0;34m\u001b[0m\u001b[0m\n\u001b[0;32m---> 76\u001b[0;31m     \u001b[0mmain\u001b[0m\u001b[0;34m(\u001b[0m\u001b[0;34m)\u001b[0m\u001b[0;34m\u001b[0m\u001b[0m\n\u001b[0m",
      "\u001b[0;32m<ipython-input-52-863b5d6b5227>\u001b[0m in \u001b[0;36mmain\u001b[0;34m()\u001b[0m\n\u001b[1;32m     35\u001b[0m             \u001b[0;32mfor\u001b[0m \u001b[0mj\u001b[0m \u001b[0;32min\u001b[0m \u001b[0mbehaviour_table\u001b[0m\u001b[0;34m[\u001b[0m\u001b[0;34m'behaviour'\u001b[0m\u001b[0;34m]\u001b[0m\u001b[0;34m:\u001b[0m\u001b[0;34m\u001b[0m\u001b[0m\n\u001b[1;32m     36\u001b[0m                 \u001b[0;32mif\u001b[0m \u001b[0mj\u001b[0m \u001b[0;32min\u001b[0m \u001b[0mfile_behaviours\u001b[0m\u001b[0;34m:\u001b[0m\u001b[0;34m\u001b[0m\u001b[0m\n\u001b[0;32m---> 37\u001b[0;31m                     \u001b[0mbehaviour_table\u001b[0m\u001b[0;34m.\u001b[0m\u001b[0miloc\u001b[0m\u001b[0;34m[\u001b[0m\u001b[0mj\u001b[0m\u001b[0;34m+\u001b[0m\u001b[0;36m1\u001b[0m\u001b[0;34m]\u001b[0m\u001b[0;34m[\u001b[0m\u001b[0;36m1\u001b[0m\u001b[0;34m]\u001b[0m \u001b[0;34m=\u001b[0m \u001b[0mbehaviour_table\u001b[0m\u001b[0;34m.\u001b[0m\u001b[0miloc\u001b[0m\u001b[0;34m[\u001b[0m\u001b[0mj\u001b[0m\u001b[0;34m+\u001b[0m\u001b[0;36m1\u001b[0m\u001b[0;34m]\u001b[0m\u001b[0;34m[\u001b[0m\u001b[0;36m1\u001b[0m\u001b[0;34m]\u001b[0m\u001b[0;34m.\u001b[0m\u001b[0mappend\u001b[0m\u001b[0;34m(\u001b[0m\u001b[0mcontents\u001b[0m\u001b[0;34m[\u001b[0m\u001b[0mi\u001b[0m\u001b[0;34m]\u001b[0m\u001b[0;34m)\u001b[0m \u001b[0;31m# NOTE: UNSURE ABOUT BEHAVIOUR\u001b[0m\u001b[0;34m\u001b[0m\u001b[0m\n\u001b[0m\u001b[1;32m     38\u001b[0m \u001b[0;31m#             for ji, jr in behaviour_table:\u001b[0m\u001b[0;34m\u001b[0m\u001b[0;34m\u001b[0m\u001b[0m\n\u001b[1;32m     39\u001b[0m \u001b[0;31m#                 if jr['behaviour'] in file_behaviours:\u001b[0m\u001b[0;34m\u001b[0m\u001b[0;34m\u001b[0m\u001b[0m\n",
      "\u001b[0;31mTypeError\u001b[0m: list indices must be integers or slices, not str"
     ]
    }
   ],
   "source": [
    "from pyspark.sql import SparkSession\n",
    "import pandas as pd\n",
    "import numpy as np\n",
    "import os # getting filepath\n",
    "import copy\n",
    "import json\n",
    "\n",
    "def main():\n",
    "    load_bool = input(\"Are you loading a behaviour csv? (y/n): \")\n",
    "    # NO, I AM NOT LOADING\n",
    "    if load_bool == 'n':\n",
    "        # get list of files\n",
    "        dir_name = input(\"Directory name: \")\n",
    "        contents = os.listdir(dir_name) # the filenames\n",
    "        # behaviour = int(input(\"Requested behaviour (number): \"))\n",
    "        # behaviour_table = pd.DataFrame(data=None, columns=['behaviour', 'applicablefiles','indices'])\n",
    "        behaviour_table = pd.DataFrame({'behaviour': range(0,27)})\n",
    "        behaviour_table['applicablefiles'] = np.empty((len(behaviour_table), 0)).tolist()\n",
    "        behaviour_table['indices'] = np.empty((len(behaviour_table), 0)).tolist()\n",
    "            # behaviour = number, applicablefiles = array of filenames, \n",
    "            # indices = array of tuples of tuples with order respect to filename order\n",
    "        # for each file, look into behavior column and gather information\n",
    "        \n",
    "        # json table\n",
    "        table = dict()\n",
    "\n",
    "        for i in contents:\n",
    "            i = os.path.join(os.path.relpath(dir_name), i)\n",
    "            data = pd.read_csv(i, sep=\",\", \n",
    "                            header=0, names=['depth', 'x', 'y', 'z', 'behaviour', 'type', 'place'],\n",
    "                            low_memory=False)\n",
    "            indices_arr = []\n",
    "            # append filenames\n",
    "            file_behaviours = data.behaviour.unique() # NOTE: NOT SURE ABOUT BEHAVIOUR\n",
    "            for j in behaviour_table['behaviour']:\n",
    "                if j in file_behaviours:\n",
    "                    behaviour_table.iloc[j+1][1] = behaviour_table.iloc[j+1][1].append(contents[i]) # NOTE: UNSURE ABOUT BEHAVIOUR\n",
    "#             for ji, jr in behaviour_table:\n",
    "#                 if jr['behaviour'] in file_behaviours:\n",
    "#                     jr['behaviour'] = \n",
    "            # append indices for a single file\n",
    "                for idx_row, row in data.iterrows(): \n",
    "                    start_idx = -1\n",
    "                    end_idx = -2\n",
    "                    recording = False\n",
    "                    if recording == False and row['behaviour'] == j:\n",
    "                        start_idx = idx_row\n",
    "                        recording = True\n",
    "                    elif recording == True and row['behaviour'] != j:\n",
    "                        end_idx = idx_row-1\n",
    "                        recording = False\n",
    "                    elif start_idx == -1 and end_idx == -2:\n",
    "                        break\n",
    "                    indices_arr.append([start_idx, end_idx])\n",
    "                print(indices_arr)\n",
    "                # set 'cell' = indices_arr\n",
    "                behaviour_table[behaviour_table['behaviour' == j]]['indices'] = indices_arr\n",
    "                behaviour_table.iloc[j][2] = indices_arr # have to use iloc\n",
    "                print(behaviour_table.head())\n",
    "        \n",
    "        # save behaviour table as csv\n",
    "        end_filename = \"behaviourtable\" + dir_name\n",
    "        behaviour_table.to_csv(end_filename, sep=\",\", header=['behaviour', 'applicablefiles', 'indices'])\n",
    "        print(behaviour_table.head())\n",
    "    # YES, I AM LOADING\n",
    "#             for fi, fr in data.iterrows():\n",
    "#                 table[i] = dict()\n",
    "        print(table)\n",
    "    elif load_bool == 'y':\n",
    "        print(\"uh\")\n",
    "    # YOU SHMUCKED UP\n",
    "    else:\n",
    "        print(\"Something went wrong.\")\n",
    "\n",
    "if __name__ == \"__main__\":\n",
    "    main()"
   ]
  },
  {
   "cell_type": "code",
   "execution_count": null,
   "metadata": {},
   "outputs": [],
   "source": []
  },
  {
   "cell_type": "code",
   "execution_count": null,
   "metadata": {},
   "outputs": [],
   "source": []
  }
 ],
 "metadata": {
  "kernelspec": {
   "display_name": "Python 3",
   "language": "python",
   "name": "python3"
  },
  "language_info": {
   "codemirror_mode": {
    "name": "ipython",
    "version": 3
   },
   "file_extension": ".py",
   "mimetype": "text/x-python",
   "name": "python",
   "nbconvert_exporter": "python",
   "pygments_lexer": "ipython3",
   "version": "3.6.5"
  }
 },
 "nbformat": 4,
 "nbformat_minor": 2
}
