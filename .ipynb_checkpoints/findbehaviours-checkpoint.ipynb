{
 "cells": [
  {
   "cell_type": "code",
   "execution_count": 95,
   "metadata": {
    "scrolled": true
   },
   "outputs": [],
   "source": [
    "from pyspark.sql import SparkSession\n",
    "import pandas as pd\n",
    "import numpy as np\n",
    "import os # getting filepath\n",
    "import copy\n",
    "import json\n",
    "import matplotlib.pyplot as plt\n",
    "import math\n"
   ]
  },
  {
   "cell_type": "code",
   "execution_count": 21,
   "metadata": {},
   "outputs": [],
   "source": [
    "\n",
    "# def main():\n",
    "#     load_bool = input(\"Are you loading a behaviour csv? (y/n): \")\n",
    "#     # NO, I AM NOT LOADING\n",
    "#     if load_bool == 'n':\n",
    "#         # get list of files\n",
    "#         dir_name = input(\"Directory name: \")\n",
    "#         contents = os.listdir(dir_name) # the filenames\n",
    "#         # behaviour = int(input(\"Requested behaviour (number): \"))\n",
    "#         # behaviour_table = pd.DataFrame(data=None, columns=['behaviour', 'applicablefiles','indices'])\n",
    "#         behaviour_table = pd.DataFrame({'behaviour': range(0,27)})\n",
    "#         behaviour_table['applicablefiles'] = np.empty((len(behaviour_table), 0)).tolist()\n",
    "#         behaviour_table['indices'] = np.empty((len(behaviour_table), 0)).tolist()\n",
    "#             # behaviour = number, applicablefiles = array of filenames, \n",
    "#             # indices = array of tuples of tuples with order respect to filename order\n",
    "#         # for each file, look into behavior column and gather information\n",
    "        \n",
    "#         # json table\n",
    "#         table = dict()\n",
    "\n",
    "#         for i in contents:\n",
    "#             i = os.path.join(os.path.relpath(dir_name), i)\n",
    "#             data = pd.read_csv(i, sep=\",\", \n",
    "#                             header=0, names=['depth', 'x', 'y', 'z', 'behaviour', 'type', 'place'],\n",
    "#                             low_memory=False)\n",
    "            \n",
    "            \n",
    "            \n",
    "#             indices_arr = []\n",
    "            # append filenames\n",
    "#             file_behaviours = data.behaviour.unique() # NOTE: NOT SURE ABOUT BEHAVIOUR\n",
    "#             for j in behaviour_table['behaviour']:\n",
    "#                 if j in file_behaviours:\n",
    "#                     behaviour_table.iloc[j+1][1] = behaviour_table.iloc[j+1][1].append(contents[i]) # NOTE: UNSURE ABOUT BEHAVIOUR\n",
    "#             for ji, jr in behaviour_table:\n",
    "#                 if jr['behaviour'] in file_behaviours:\n",
    "#                     jr['behaviour'] = \n",
    "            # append indices for a single file\n",
    "#                 for idx_row, row in data.iterrows(): \n",
    "#                     start_idx = -1\n",
    "#                     end_idx = -2\n",
    "#                     recording = False\n",
    "#                     if recording == False and row['behaviour'] == j:\n",
    "#                         start_idx = idx_row\n",
    "#                         recording = True\n",
    "#                     elif recording == True and row['behaviour'] != j:\n",
    "#                         end_idx = idx_row-1\n",
    "#                         recording = False\n",
    "#                     elif start_idx == -1 and end_idx == -2:\n",
    "#                         break\n",
    "#                     indices_arr.append([start_idx, end_idx])\n",
    "#                 print(indices_arr)\n",
    "                # set 'cell' = indices_arr\n",
    "                # behaviour_table[behaviour_table['behaviour' == j]]['indices'] = indices_arr\n",
    "#                 behaviour_table.iloc[j][2] = indices_arr # have to use iloc\n",
    "                # print(behaviour_table.head())\n",
    "        \n",
    "        # save behaviour table as csv\n",
    "#         end_filename = \"behaviourtable\" + dir_name\n",
    "#         behaviour_table.to_csv(end_filename, sep=\",\", header=['behaviour', 'applicablefiles', 'indices'])\n",
    "        # print(behaviour_table.head())\n",
    "    \n",
    "    \n",
    "    \n",
    "#     # YES, I AM LOADING\n",
    "#             for fi, fr in data.iterrows():\n",
    "#                 table[i] = dict()\n",
    "#         print(table)\n",
    "#     elif load_bool == 'y':\n",
    "#         print(\"uh\")\n",
    "#     # YOU SHMUCKED UP\n",
    "#     else:\n",
    "#         print(\"Something went wrong.\")\n",
    "\n",
    "# if __name__ == \"__main__\":\n",
    "#     main()"
   ]
  },
  {
   "cell_type": "code",
   "execution_count": 96,
   "metadata": {},
   "outputs": [],
   "source": [
    "def find_ranges(iterable):\n",
    "    \"\"\"Yield range of consecutive numbers.\"\"\"\n",
    "    for group in mit.consecutive_groups(iterable):\n",
    "        group = list(group)\n",
    "        if len(group) == 1:\n",
    "            yield group[0]\n",
    "        else:\n",
    "            yield group[0], group[-1]"
   ]
  },
  {
   "cell_type": "code",
   "execution_count": 100,
   "metadata": {},
   "outputs": [
    {
     "name": "stdout",
     "output_type": "stream",
     "text": [
      "Directory name: cleandata_copy\n"
     ]
    }
   ],
   "source": [
    "import pandas as pd\n",
    "import numpy as np\n",
    "import os\n",
    "import more_itertools as mit\n",
    "import sqlite3\n",
    "\n",
    "conn = sqlite3.connect('fursealdata.db')\n",
    "c = conn.cursor()\n",
    "c.execute('''DROP TABLE fursealdata''')\n",
    "c.execute('''CREATE TABLE fursealdata\n",
    "             (behaviour integer, filename text, range text, depth blob, x blob, \n",
    "             y blob, z blob, type blob, place blob)''')\n",
    "conn.commit()\n",
    "\n",
    "# iterate through files and insert information into the db file\n",
    "dir_name = input(\"Directory name: \")\n",
    "contents = os.listdir(dir_name) # the filenames\n",
    "\n",
    "for i in contents:\n",
    "    i = os.path.join(os.path.relpath(dir_name), i)\n",
    "    data = pd.read_csv(i, sep=\",\", header=0, \n",
    "                       names=['depth', 'x', 'y', 'z', 'behaviour', 'type', 'place'],\n",
    "                       low_memory=False)\n",
    "    # print(data)\n",
    "    for behaviour in range(0, 27):\n",
    "        temp = data.loc[data['behaviour'] == b]\n",
    "#         print(b, '=' * 20)\n",
    "        if len(temp) > 0:\n",
    "#             print(i)\n",
    "            indexes = temp.index.tolist()\n",
    "            groups = list(find_ranges(indexes))\n",
    "            for r in groups:\n",
    "#                 print(r)\n",
    "#                 print(data['x'].iloc[groups[0]])\n",
    "                x = data.iloc[r[0]:r[1]]['x']\n",
    "                y = data.iloc[r[0]:r[1]]['y']\n",
    "                z = data.iloc[r[0]:r[1]]['z']\n",
    "                depth = data.iloc[r[0]:r[1]]['depth']\n",
    "                t = data.iloc[r[0]:r[1]]['type']\n",
    "                place = data.iloc[r[0]:r[1]]['place']\n",
    "#                 print(type(list(place)))\n",
    "                c.execute(\"INSERT INTO fursealdata VALUES (?, ?, ?, ?, ?, ?, ?, ?, ?)\", \n",
    "                          (behaviour, i, str(r), str(list(depth)), str(list(x)), \n",
    "                           str(list(y)), str(list(z)), str(list(t)), str(list(place))))\n",
    "            conn.commit()\n",
    "conn.close()"
   ]
  },
  {
   "cell_type": "code",
   "execution_count": null,
   "metadata": {},
   "outputs": [],
   "source": []
  },
  {
   "cell_type": "code",
   "execution_count": 127,
   "metadata": {},
   "outputs": [
    {
     "name": "stdout",
     "output_type": "stream",
     "text": [
      "(4, 'cleandata_copy/nelson081114_c.csv', '(100, 168)', '[0.5, 0.46, 0.5, 0.46, 0.46, 0.46, 0.46, 0.46, 0.46, 0.46, 0.46, 0.46, 0.46, 0.46, 0.46, 0.46, 0.46, 0.46, 0.46, 0.46, 0.46, 0.5, 0.46, 0.46, 0.46, 0.46, 0.46, 0.46, 0.46, 0.46, 0.46, 0.46, 0.46, 0.46, 0.46, 0.46, 0.46, 0.46, 0.46, 0.46, 0.46, 0.46, 0.46, 0.46, 0.46, 0.46, 0.46, 0.46, 0.46, 0.46, 0.46, 0.46, 0.46, 0.5, 0.46, 0.46, 0.46, 0.46, 0.5, 0.46, 0.46, 0.46, 0.46, 0.5, 0.46, 0.46, 0.46, 0.46]', '[0.504, 0.46, 0.496, 0.496, 0.308, 0.16, 0.3, 0.52, 0.488, 0.35200000000000004, 0.484, 0.5720000000000001, 0.544, 0.5479999999999999, 0.792, 0.708, 0.932, 0.5920000000000001, 0.728, 0.616, 0.556, 0.7240000000000001, 0.752, 0.7120000000000001, 0.68, 0.728, 0.72, 0.6759999999999999, 0.772, 0.8320000000000001, 0.7559999999999999, 0.78, 0.74, 0.736, 0.736, 0.716, 0.672, 0.672, 0.648, 0.644, 0.748, 0.82, 0.8, 0.8079999999999999, 0.7559999999999999, 0.7559999999999999, 0.8, 0.7240000000000001, 0.7120000000000001, 0.816, 0.772, 0.736, 0.748, 0.816, 0.892, 0.976, 1.112, 1.12, 1.08, 0.98, 0.948, 0.952, 0.996, 1.032, 1.032, 0.988, 0.996, 1.008]', '[-0.2, -0.12, -0.008, 0.21600000000000005, 0.152, -0.4920000000000001, -0.436, -0.428, 0.208, 0.204, 0.14400000000000002, 0.116, -0.028, -0.104, -0.112, -0.16, -0.21600000000000005, -0.21600000000000005, -0.22, -0.004, 0.004, -0.04, -0.092, 0.07200000000000001, 0.064, -0.028, -0.08800000000000001, -0.172, -0.132, -0.084, -0.096, -0.16, -0.17600000000000002, -0.208, -0.204, -0.156, -0.168, -0.152, -0.116, -0.14400000000000002, -0.092, -0.068, -0.048, -0.112, -0.104, -0.052000000000000005, -0.028, -0.004, -0.012, 0.052000000000000005, 0.032, -0.02, -0.02, -0.008, 0.052000000000000005, 0.004, -0.016, -0.044, -0.068, -0.1, -0.096, -0.112, -0.124, -0.116, -0.096, -0.084, -0.032, -0.028]', '[0.924, 1.04, 1.0759999999999998, 1.132, 0.74, 0.516, 0.46, 0.68, 0.716, 0.652, 0.484, 0.568, 0.608, 0.76, 0.608, 0.604, 0.84, 0.804, 0.7440000000000001, 0.9, 0.632, 0.512, 0.68, 0.652, 0.708, 0.628, 0.612, 0.5479999999999999, 0.636, 0.672, 0.64, 0.62, 0.636, 0.648, 0.708, 0.6759999999999999, 0.672, 0.62, 0.688, 0.6559999999999999, 0.708, 0.624, 0.616, 0.6759999999999999, 0.5920000000000001, 0.628, 0.66, 0.5920000000000001, 0.624, 0.5920000000000001, 0.544, 0.484, 0.512, 0.448, 0.396, 0.35200000000000004, 0.272, 0.256, 0.26, 0.18, 0.16, 0.196, 0.196, 0.172, 0.17600000000000002, 0.172, 0.14, 0.152]', '[0, 0, 0, 0, 0, 0, 0, 0, 0, 0, 0, 0, 0, 0, 0, 0, 0, 0, 0, 0, 0, 0, 0, 0, 0, 0, 0, 0, 0, 0, 0, 0, 0, 0, 0, 0, 0, 0, 0, 0, 0, 0, 0, 0, 0, 0, 0, 0, 0, 0, 0, 0, 0, 0, 0, 0, 0, 0, 0, 0, 0, 0, 0, 0, 0, 0, 0, 0]', '[1, 1, 1, 1, 1, 1, 1, 1, 1, 1, 1, 1, 1, 1, 1, 1, 1, 1, 1, 1, 1, 1, 1, 1, 1, 1, 1, 1, 1, 1, 1, 1, 1, 1, 1, 1, 1, 1, 1, 1, 1, 1, 1, 1, 1, 1, 1, 1, 1, 1, 1, 1, 1, 1, 1, 1, 1, 1, 1, 1, 1, 1, 1, 1, 1, 1, 1, 1]')\n"
     ]
    }
   ],
   "source": [
    "conn = sqlite3.connect('fursealdata.db')\n",
    "c = conn.cursor()\n",
    "\n",
    "files_and_ranges = []\n",
    "\n",
    "for row in c.execute(\"SELECT * FROM fursealdata WHERE behaviour = 4\"):\n",
    "    files_and_ranges.append(row)\n",
    "    \n",
    "conn.close()\n",
    "print(files_and_ranges[0])"
   ]
  },
  {
   "cell_type": "code",
   "execution_count": 136,
   "metadata": {},
   "outputs": [
    {
     "ename": "TypeError",
     "evalue": "'float' object cannot be interpreted as an integer",
     "output_type": "error",
     "traceback": [
      "\u001b[0;31m---------------------------------------------------------------------------\u001b[0m",
      "\u001b[0;31mTypeError\u001b[0m                                 Traceback (most recent call last)",
      "\u001b[0;32m<ipython-input-136-17bafd2854b8>\u001b[0m in \u001b[0;36m<module>\u001b[0;34m()\u001b[0m\n\u001b[1;32m     36\u001b[0m     \u001b[0;31m#   plt.subplot(temp, temp, k)  # one subplot per range in file\u001b[0m\u001b[0;34m\u001b[0m\u001b[0;34m\u001b[0m\u001b[0m\n\u001b[1;32m     37\u001b[0m         \u001b[0mplt\u001b[0m\u001b[0;34m.\u001b[0m\u001b[0mfigure\u001b[0m\u001b[0;34m(\u001b[0m\u001b[0mdpi\u001b[0m\u001b[0;34m=\u001b[0m\u001b[0;36m300\u001b[0m\u001b[0;34m)\u001b[0m\u001b[0;34m\u001b[0m\u001b[0m\n\u001b[0;32m---> 38\u001b[0;31m         \u001b[0mplt\u001b[0m\u001b[0;34m.\u001b[0m\u001b[0mplot\u001b[0m\u001b[0;34m(\u001b[0m\u001b[0mrange\u001b[0m\u001b[0;34m(\u001b[0m\u001b[0mrange_for_axis\u001b[0m\u001b[0;34m[\u001b[0m\u001b[0;36m0\u001b[0m\u001b[0;34m]\u001b[0m\u001b[0;34m,\u001b[0m \u001b[0mrange_for_axis\u001b[0m\u001b[0;34m[\u001b[0m\u001b[0;36m1\u001b[0m\u001b[0;34m]\u001b[0m\u001b[0;34m)\u001b[0m\u001b[0;34m,\u001b[0m \u001b[0mx_range\u001b[0m\u001b[0;34m,\u001b[0m \u001b[0mlabel\u001b[0m\u001b[0;34m=\u001b[0m\u001b[0;34m'x'\u001b[0m\u001b[0;34m,\u001b[0m \u001b[0mcolor\u001b[0m\u001b[0;34m=\u001b[0m\u001b[0;34m'red'\u001b[0m\u001b[0;34m)\u001b[0m\u001b[0;34m\u001b[0m\u001b[0m\n\u001b[0m\u001b[1;32m     39\u001b[0m         \u001b[0mplt\u001b[0m\u001b[0;34m.\u001b[0m\u001b[0mplot\u001b[0m\u001b[0;34m(\u001b[0m\u001b[0mrange\u001b[0m\u001b[0;34m(\u001b[0m\u001b[0mrange_for_axis\u001b[0m\u001b[0;34m[\u001b[0m\u001b[0;36m0\u001b[0m\u001b[0;34m]\u001b[0m\u001b[0;34m,\u001b[0m \u001b[0mrange_for_axis\u001b[0m\u001b[0;34m[\u001b[0m\u001b[0;36m1\u001b[0m\u001b[0;34m]\u001b[0m\u001b[0;34m)\u001b[0m\u001b[0;34m,\u001b[0m \u001b[0my_range\u001b[0m\u001b[0;34m,\u001b[0m \u001b[0mlabel\u001b[0m\u001b[0;34m=\u001b[0m\u001b[0;34m'y'\u001b[0m\u001b[0;34m,\u001b[0m \u001b[0mcolor\u001b[0m\u001b[0;34m=\u001b[0m\u001b[0;34m'blue'\u001b[0m\u001b[0;34m)\u001b[0m\u001b[0;34m\u001b[0m\u001b[0m\n\u001b[1;32m     40\u001b[0m         \u001b[0mplt\u001b[0m\u001b[0;34m.\u001b[0m\u001b[0mplot\u001b[0m\u001b[0;34m(\u001b[0m\u001b[0mrange\u001b[0m\u001b[0;34m(\u001b[0m\u001b[0mrange_for_axis\u001b[0m\u001b[0;34m[\u001b[0m\u001b[0;36m0\u001b[0m\u001b[0;34m]\u001b[0m\u001b[0;34m,\u001b[0m \u001b[0mrange_for_axis\u001b[0m\u001b[0;34m[\u001b[0m\u001b[0;36m1\u001b[0m\u001b[0;34m]\u001b[0m\u001b[0;34m)\u001b[0m\u001b[0;34m,\u001b[0m \u001b[0mz_range\u001b[0m\u001b[0;34m,\u001b[0m \u001b[0mlabel\u001b[0m\u001b[0;34m=\u001b[0m\u001b[0;34m'z'\u001b[0m\u001b[0;34m,\u001b[0m \u001b[0mcolor\u001b[0m\u001b[0;34m=\u001b[0m\u001b[0;34m'green'\u001b[0m\u001b[0;34m)\u001b[0m\u001b[0;34m\u001b[0m\u001b[0m\n",
      "\u001b[0;31mTypeError\u001b[0m: 'float' object cannot be interpreted as an integer"
     ]
    },
    {
     "data": {
      "text/plain": [
       "<Figure size 1800x1200 with 0 Axes>"
      ]
     },
     "metadata": {},
     "output_type": "display_data"
    }
   ],
   "source": [
    "conn = sqlite3.connect('fursealdata.db')\n",
    "c = conn.cursor()\n",
    "\n",
    "for file in files_and_ranges:\n",
    "    # file[0] = dir/filename\n",
    "    # file[1] = list of ranges\n",
    "    num_ranges = len(file[1]) # number of ranges in the file\n",
    "    temp = math.ceil(math.sqrt(num_ranges))\n",
    "    temp2 = num_ranges - 7\n",
    "#     plt.figure(dpi=300)\n",
    "#     k = 0\n",
    "    filename = file[1]\n",
    "    for i in range(2, temp2):\n",
    "        range_for_axis = file[i]\n",
    "        depth_range = file[i+1]\n",
    "        x_range = file[i+2]\n",
    "        y_range = file[i+3]\n",
    "        z_range = file[i+4]\n",
    "#         t_range = file[i+5]\n",
    "#         place_range = file[i+6]\n",
    "        if i < temp2:\n",
    "            i += 7\n",
    "        # grab data from database\n",
    "        for char in '[,]()':\n",
    "            range_for_axis = range_for_axis.replace(char,\"\")\n",
    "            x_range = x_range.replace(char,\"\")\n",
    "            y_range = y_range.replace(char, \"\")\n",
    "            z_range = z_range.replace(char, \"\")\n",
    "            depth_range = depth_range.replace(char, \"\")\n",
    "        range_for_axis = list(map(int, range_for_axis.split()))\n",
    "        x_range = list(map(float, x_range.split()))\n",
    "        y_range = list(map(float, y_range.split()))\n",
    "        z_range = list(map(float, z_range.split()))\n",
    "        depth_range = list(map(float, depth_range.split()))\n",
    "#         k += 1   \n",
    "    #   plt.subplot(temp, temp, k)  # one subplot per range in file\n",
    "        plt.figure(dpi=300)\n",
    "        plt.plot(range(range_for_axis[0], range_for_axis[1]), x_range, label='x', color='red')\n",
    "        plt.plot(range(range_for_axis[0], range_for_axis[1]), y_range, label='y', color='blue')\n",
    "        plt.plot(range(range_for_axis[0], range_for_axis[1]), z_range, label='z', color='green')\n",
    "        plt.plot(range(range_for_axis[0], range_for_axis[1]), depth_range, label='depth', color='magenta')\n",
    "        plt.title(filename)\n",
    "        plt.legend(bbox_to_anchor=(1.05, 1), loc=2, borderaxespad=0.)\n",
    "        \n",
    "conn.close()"
   ]
  },
  {
   "cell_type": "code",
   "execution_count": null,
   "metadata": {},
   "outputs": [],
   "source": []
  },
  {
   "cell_type": "code",
   "execution_count": null,
   "metadata": {},
   "outputs": [],
   "source": []
  }
 ],
 "metadata": {
  "kernelspec": {
   "display_name": "Python 3",
   "language": "python",
   "name": "python3"
  },
  "language_info": {
   "codemirror_mode": {
    "name": "ipython",
    "version": 3
   },
   "file_extension": ".py",
   "mimetype": "text/x-python",
   "name": "python",
   "nbconvert_exporter": "python",
   "pygments_lexer": "ipython3",
   "version": "3.6.5"
  }
 },
 "nbformat": 4,
 "nbformat_minor": 2
}
