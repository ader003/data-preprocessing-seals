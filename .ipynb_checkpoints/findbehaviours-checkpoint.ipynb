{
 "cells": [
  {
   "cell_type": "code",
   "execution_count": null,
   "metadata": {
    "scrolled": true
   },
   "outputs": [],
   "source": [
    "from pyspark.sql import SparkSession\n",
    "import pandas as pd\n",
    "import numpy as np\n",
    "import os # getting filepath\n",
    "import copy\n",
    "\n",
    "def main():\n",
    "    load_bool = input(\"Are you loading a behaviour csv? (y/n): \")\n",
    "    # NO, I AM NOT LOADING\n",
    "    if load_bool == 'n':\n",
    "        # get list of files\n",
    "        dir_name = input(\"Directory name: \")\n",
    "        contents = os.listdir(dir_name) # the filenames\n",
    "        # behaviour = int(input(\"Requested behaviour (number): \"))\n",
    "        # behaviour_table = pd.DataFrame(data=None, columns=['behaviour', 'applicablefiles','indices'])\n",
    "        behaviour_table = pd.DataFrame({'behaviour': range(0,27)})\n",
    "        behaviour_table['applicablefiles'] = np.empty((len(behaviour_table), 0)).tolist()\n",
    "        behaviour_table['indices'] = np.empty((len(behaviour_table), 0)).tolist()\n",
    "            # behaviour = number, applicablefiles = array of filenames, \n",
    "            # indices = array of tuples of tuples with order respect to filename order\n",
    "        # for each file, look into behavior column and gather information\n",
    "        for i in range(len(contents)):\n",
    "            contents[i] = os.path.join(os.path.relpath(dir_name), contents[i])\n",
    "            data = pd.read_csv(contents[i], sep=\",\", \n",
    "                            header=0, names=['depth', 'x', 'y', 'z', 'behaviour', 'type', 'place'],\n",
    "                            low_memory=False)\n",
    "            indices_arr = []\n",
    "            # append filenames\n",
    "            file_behaviours = data.behaviour.unique() # NOTE: NOT SURE ABOUT BEHAVIOUR\n",
    "            for j in behaviour_table['behaviour']:\n",
    "                if j in file_behaviours:\n",
    "                    behaviour_table.iloc[j+1][1] = behaviour_table.iloc[j+1][1].append(contents[i]) # NOTE: UNSURE ABOUT BEHAVIOUR\n",
    "            # append indices for a single file\n",
    "                for idx_row, row in data.iterrows(): \n",
    "                    start_idx = -1\n",
    "                    end_idx = -2\n",
    "                    recording = False\n",
    "                    if recording == False and row['behaviour'] == j:\n",
    "                        start_idx = idx_row\n",
    "                        recording = True\n",
    "                    elif recording == True and row['behaviour'] != j:\n",
    "                        end_idx = idx_row-1\n",
    "                        recording = False\n",
    "                    elif start_idx == -1 and end_idx == -2:\n",
    "                        break\n",
    "                    indices_arr.append([start_idx, end_idx])\n",
    "                print(indices_arr)\n",
    "                # set 'cell' = indices_arr\n",
    "                # behaviour_table[behaviour_table['behaviour' == j]]['indices'] = indices_arr\n",
    "                behaviour_table.iloc[j][2] = indices_arr # have to use iloc\n",
    "                # print(behaviour_table.head())\n",
    "        \n",
    "        # save behaviour table as csv\n",
    "        end_filename = \"behaviourtable\" + dir_name\n",
    "        behaviour_table.to_csv(end_filename, sep=\",\", header=['behaviour', 'applicablefiles', 'indices'])\n",
    "        # print(behaviour_table.head())\n",
    "    # YES, I AM LOADING\n",
    "    elif load_bool == 'y':\n",
    "        print(\"uh\")\n",
    "    # YOU SHMUCKED UP\n",
    "    else:\n",
    "        print(\"Something went wrong.\")\n",
    "\n",
    "if __name__ == \"__main__\":\n",
    "    main()"
   ]
  },
  {
   "cell_type": "code",
   "execution_count": null,
   "metadata": {},
   "outputs": [],
   "source": []
  },
  {
   "cell_type": "code",
   "execution_count": null,
   "metadata": {},
   "outputs": [],
   "source": []
  }
 ],
 "metadata": {
  "kernelspec": {
   "display_name": "Python 3",
   "language": "python",
   "name": "python3"
  },
  "language_info": {
   "codemirror_mode": {
    "name": "ipython",
    "version": 3
   },
   "file_extension": ".py",
   "mimetype": "text/x-python",
   "name": "python",
   "nbconvert_exporter": "python",
   "pygments_lexer": "ipython3",
   "version": "3.6.5"
  }
 },
 "nbformat": 4,
 "nbformat_minor": 2
}
